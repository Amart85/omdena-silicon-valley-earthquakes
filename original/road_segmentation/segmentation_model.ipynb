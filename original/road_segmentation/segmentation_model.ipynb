{
 "cells": [
  {
   "cell_type": "code",
   "execution_count": 0,
   "metadata": {
    "colab": {},
    "colab_type": "code",
    "id": "-v5ywAHXgmdC",
    "scrolled": true
   },
   "outputs": [],
   "source": [
    "!pip install rasterio"
   ]
  },
  {
   "cell_type": "code",
   "execution_count": 0,
   "metadata": {
    "colab": {
     "base_uri": "https://localhost:8080/",
     "height": 81
    },
    "colab_type": "code",
    "id": "1BA8rQW74Fy6",
    "outputId": "cbda6589-e5e9-4850-ec0b-888f01e8a34c"
   },
   "outputs": [
    {
     "name": "stderr",
     "output_type": "stream",
     "text": [
      "Using TensorFlow backend.\n"
     ]
    },
    {
     "data": {
      "text/html": [
       "<p style=\"color: red;\">\n",
       "The default version of TensorFlow in Colab will soon switch to TensorFlow 2.x.<br>\n",
       "We recommend you <a href=\"https://www.tensorflow.org/guide/migrate\" target=\"_blank\">upgrade</a> now \n",
       "or ensure your notebook will continue to use TensorFlow 1.x via the <code>%tensorflow_version 1.x</code> magic:\n",
       "<a href=\"https://colab.research.google.com/notebooks/tensorflow_version.ipynb\" target=\"_blank\">more info</a>.</p>\n"
      ],
      "text/plain": [
       "<IPython.core.display.HTML object>"
      ]
     },
     "metadata": {
      "tags": []
     },
     "output_type": "display_data"
    }
   ],
   "source": [
    "from keras.layers import Conv2D, MaxPooling2D, Dropout, Conv2DTranspose, BatchNormalization, Activation, Input\n",
    "from keras.utils import Sequence\n",
    "from keras.layers.merge import concatenate, add\n",
    "from keras.models import Model\n",
    "from keras.optimizers import Adam\n",
    "from keras.callbacks import ModelCheckpoint, EarlyStopping\n",
    "from keras.models import load_model\n",
    "import numpy as np\n",
    "import pandas as pd\n",
    "import rasterio\n",
    "import matplotlib.pyplot as plt\n",
    "import os"
   ]
  },
  {
   "cell_type": "code",
   "execution_count": 0,
   "metadata": {
    "colab": {
     "base_uri": "https://localhost:8080/",
     "height": 124
    },
    "colab_type": "code",
    "id": "G0Mrb5itTdoU",
    "outputId": "e1e519af-e4fe-485a-d2af-53bf538a0fc5"
   },
   "outputs": [
    {
     "name": "stdout",
     "output_type": "stream",
     "text": [
      "Go to this URL in a browser: https://accounts.google.com/o/oauth2/auth?client_id=947318989803-6bn6qk8qdgf4n4g3pfee6491hc0brc4i.apps.googleusercontent.com&redirect_uri=urn%3aietf%3awg%3aoauth%3a2.0%3aoob&response_type=code&scope=email%20https%3a%2f%2fwww.googleapis.com%2fauth%2fdocs.test%20https%3a%2f%2fwww.googleapis.com%2fauth%2fdrive%20https%3a%2f%2fwww.googleapis.com%2fauth%2fdrive.photos.readonly%20https%3a%2f%2fwww.googleapis.com%2fauth%2fpeopleapi.readonly\n",
      "\n",
      "Enter your authorization code:\n",
      "··········\n",
      "Mounted at /content/drive\n"
     ]
    }
   ],
   "source": [
    "from google.colab import drive\n",
    "drive.mount('/content/drive')\n",
    "drive_path = '/content/drive/\"My Drive\"/spacenet-data/'\n",
    "image_path_drive = drive_path+'data/'\n",
    "geojson_path_drive = drive_path+'geojson_roads/'\n",
    "mask_path_drive = drive_path+'mask/'"
   ]
  },
  {
   "cell_type": "code",
   "execution_count": 0,
   "metadata": {
    "colab": {},
    "colab_type": "code",
    "id": "8xv06iYoGZG4"
   },
   "outputs": [],
   "source": [
    "#copy files \n",
    "if not os.path.exists('img_data'):\n",
    "    os.makedirs('img_data')\n",
    "if not os.path.exists('mask_data'):\n",
    "    os.makedirs('mask_data')\n",
    "\n",
    "!rsync -av /content/drive/\"My Drive\"/spacenet-data/data/SN3_roads_train_AOI_* img_data/\n",
    "!rsync -av /content/drive/\"My Drive\"/spacenet-data/mask_lane/SN3_roads_train_AOI_* mask_data/"
   ]
  },
  {
   "cell_type": "code",
   "execution_count": 0,
   "metadata": {
    "colab": {},
    "colab_type": "code",
    "id": "IwKI-CgY3VIv"
   },
   "outputs": [],
   "source": [
    "#single block of the unet model\n",
    "def conv2d_block(input_tensor, n_filters, kernel_size = 3, batchnorm = True):\n",
    "    # first layer\n",
    "    x = Conv2D(filters = n_filters, kernel_size = (kernel_size, kernel_size),\\\n",
    "        kernel_initializer = 'he_normal', padding = 'same')(input_tensor)\n",
    "    if batchnorm:\n",
    "        x = BatchNormalization()(x)\n",
    "        x = Activation('relu')(x)\n",
    "\n",
    "    # second layer\n",
    "    x = Conv2D(filters = n_filters, kernel_size = (kernel_size, kernel_size),\\\n",
    "        kernel_initializer = 'he_normal', padding = 'same')(input_tensor)\n",
    "    if batchnorm:\n",
    "        x = BatchNormalization()(x)\n",
    "        x = Activation('relu')(x)\n",
    "    return x"
   ]
  },
  {
   "cell_type": "code",
   "execution_count": 0,
   "metadata": {
    "colab": {},
    "colab_type": "code",
    "id": "U3nn1vUHTXLm"
   },
   "outputs": [],
   "source": [
    "#unet model\n",
    "def get_unet(input_img, n_filters = 16, dropout = 0.2, batchnorm = True):\n",
    "  \n",
    "    #test = conv2d_block(input_img, n_filters * 1, kernel_size = 3, batchnorm = batchnorm)\n",
    "    c1 = Conv2D(filters = n_filters, kernel_size = (6, 6), strides = (1, 1), padding = 'valid')(input_img)\n",
    "    p1 = MaxPooling2D((2, 2))(c1)\n",
    "    p1 = Dropout(dropout)(p1)\n",
    "\n",
    "    c2 = conv2d_block(p1, n_filters * 2, kernel_size = 3, batchnorm = batchnorm)\n",
    "    p2 = MaxPooling2D((2, 2))(c2)\n",
    "    p2 = Dropout(dropout)(p2)\n",
    "\n",
    "    c3 = conv2d_block(p2, n_filters * 4, kernel_size = 3, batchnorm = batchnorm)\n",
    "    p3 = MaxPooling2D((2, 2))(c3)\n",
    "    p3 = Dropout(dropout)(p3)\n",
    "\n",
    "    c4 = conv2d_block(p3, n_filters * 8, kernel_size = 3, batchnorm = batchnorm)\n",
    "    p4 = MaxPooling2D((2, 2))(c4)\n",
    "    p4 = Dropout(dropout)(p4)\n",
    "\n",
    "    c5 = conv2d_block(p4, n_filters = n_filters * 16, kernel_size = 3, batchnorm = batchnorm)\n",
    "\n",
    "    # Expansive Path\n",
    "    u6 = Conv2DTranspose(n_filters * 8, (3, 3), strides = (2, 2), padding = 'same', activation = 'relu')(c5)\n",
    "    u6 = concatenate([u6, c4])\n",
    "    u6 = Dropout(dropout)(u6)\n",
    "    c6 = conv2d_block(u6, n_filters * 8, kernel_size = 3, batchnorm = batchnorm)\n",
    "\n",
    "    u7 = Conv2DTranspose(n_filters * 4, (3, 3), strides = (2, 2), padding = 'same', activation = 'relu')(c6)\n",
    "    u7 = concatenate([u7, c3])\n",
    "    u7 = Dropout(dropout)(u7)\n",
    "    c7 = conv2d_block(u7, n_filters * 4, kernel_size = 3, batchnorm = batchnorm)\n",
    "\n",
    "    u8 = Conv2DTranspose(n_filters * 2, (3, 3), strides = (2, 2), padding = 'same', activation = 'relu')(c7)\n",
    "    u8 = concatenate([u8, c2])\n",
    "    u8 = Dropout(dropout)(u8)\n",
    "    c8 = conv2d_block(u8, n_filters * 2, kernel_size = 3, batchnorm = batchnorm)\n",
    "\n",
    "    u9 = Conv2DTranspose(n_filters * 1, (3, 3), strides = (2, 2), padding = 'same', activation = 'relu')(c8)\n",
    "    u9 = concatenate([u9, c1])\n",
    "    u9 = Dropout(dropout)(u9)\n",
    "    c9 = conv2d_block(u9, n_filters * 1, kernel_size = 3, batchnorm = batchnorm)\n",
    "\n",
    "    outputs = Conv2DTranspose(1, (6, 6), strides = (1, 1), padding = 'valid', activation = 'sigmoid')(c9)\n",
    "    model = Model(inputs=[input_img], outputs=[outputs])\n",
    "    return model"
   ]
  },
  {
   "cell_type": "markdown",
   "metadata": {
    "colab_type": "text",
    "id": "bjSZd5jlbHG7"
   },
   "source": [
    "**Custom Loss Function and IOU Score Metric**"
   ]
  },
  {
   "cell_type": "code",
   "execution_count": 0,
   "metadata": {
    "colab": {},
    "colab_type": "code",
    "id": "uR9eJP02Ytwz"
   },
   "outputs": [],
   "source": [
    "from keras import backend as K\n",
    "from keras import losses\n",
    "\n",
    "def iou_score(y_true, y_pred, smooth=1):\n",
    "    intersection = K.sum(K.abs(y_true * y_pred), axis=-1)\n",
    "    union = K.sum(y_true,-1) + K.sum(y_pred,-1) - intersection\n",
    "    iou = (intersection + smooth) / ( union + smooth)\n",
    "    return iou\n",
    "\n",
    "\n",
    "def dice_coeff(y_true, y_pred):\n",
    "    smooth = 1.\n",
    "    y_true_f = K.flatten(y_true)\n",
    "    y_pred_f = K.flatten(y_pred)\n",
    "    intersection = K.sum(y_true_f * y_pred_f)\n",
    "    score = (2. * intersection + smooth) / (K.sum(y_true_f) + K.sum(y_pred_f) + smooth)\n",
    "    return score\n",
    "\n",
    "def dice_loss(y_true, y_pred):\n",
    "    loss = 1 - dice_coeff(y_true, y_pred)\n",
    "    return loss\n",
    "\n",
    "def bce_dice_loss(y_true, y_pred):\n",
    "    loss = losses.binary_crossentropy(y_true, y_pred) + dice_loss(y_true, y_pred)\n",
    "    return loss\n",
    "\n",
    "\n",
    "def bce_dice_loss_new(y_true, y_pred):\n",
    "    return 0.8*losses.binary_crossentropy(y_true, y_pred) + 0.2*(1 - dice_loss(y_true, y_pred))"
   ]
  },
  {
   "cell_type": "code",
   "execution_count": 0,
   "metadata": {
    "colab": {},
    "colab_type": "code",
    "id": "LnT2_fK-ZGEk"
   },
   "outputs": [],
   "source": [
    "input_layer = Input((325, 325, 8))\n",
    "model = get_unet(input_layer, n_filters=16, batchnorm=True)\n",
    "model.compile(optimizer=Adam(), loss=bce_dice_loss, metrics=[iou_score])"
   ]
  },
  {
   "cell_type": "code",
   "execution_count": 0,
   "metadata": {
    "colab": {},
    "colab_type": "code",
    "id": "FtXoJnP2TbyF"
   },
   "outputs": [],
   "source": [
    "#data loader to load batch of images\n",
    "class CustomDataGenerator(Sequence):\n",
    "    def __init__(self, image_list, batch_size, dims, image_path, mask_path):\n",
    "        self.image_list = image_list\n",
    "        self.batch_size = batch_size\n",
    "        self.dims = dims\n",
    "        self.indexes = np.arange(len(self.image_list))\n",
    "        self.image_path = image_path\n",
    "        self.mask_path = mask_path\n",
    "\n",
    "    def __len__(self):\n",
    "        return int(np.floor(len(self.image_list) / self.batch_size))\n",
    "\n",
    "    def __getitem__(self, index):\n",
    "        batch_list = self.indexes[index * self.batch_size : (index + 1) * self.batch_size]\n",
    "        batch_image = [self.image_list[i] for i in batch_list]\n",
    "        x, y = self.__data_generation(batch_image)\n",
    "        return x, y\n",
    "\n",
    "    def on_epoch_end(self):\n",
    "        self.indexes = np.arange(len(self.image_list))\n",
    "        np.random.shuffle(self.indexes)\n",
    "\n",
    "    def __data_generation(self, batch_image):\n",
    "        x = np.empty((self.batch_size, self.dims[0], self.dims[1], self.dims[2]))\n",
    "        y = np.empty((self.batch_size, self.dims[0], self.dims[1], 1))\n",
    "        try:\n",
    "            for i, image_name in enumerate(batch_image):\n",
    "                image = rasterio.open(self.image_path + image_name).read()\n",
    "                image = np.moveaxis(image, 0, 2)\n",
    "                mask_name = image_name.replace(\"MS\", \"mask_thick\")\n",
    "                mask_name = mask_name.replace(\"tif\", \"npy\")\n",
    "                mask = np.load(self.mask_path + mask_name)\n",
    "                mask = mask.reshape(mask.shape[0], mask.shape[1], 1)\n",
    "                mask = mask / 255\n",
    "                x[i,], y[i, ] = image, mask.round(decimals = 1)\n",
    "\n",
    "        except Exception as e:\n",
    "            print(e)\n",
    "            pass\n",
    "        return x, y\n"
   ]
  },
  {
   "cell_type": "markdown",
   "metadata": {
    "colab_type": "text",
    "id": "PH11MR56bbcW"
   },
   "source": [
    "Initialize callbacks to save model after each epoch "
   ]
  },
  {
   "cell_type": "code",
   "execution_count": 0,
   "metadata": {
    "colab": {},
    "colab_type": "code",
    "id": "wABEJMJpZX75"
   },
   "outputs": [],
   "source": [
    "save_model_path = '/content/drive/My Drive/spacenet-data/model_weights.h5'\n",
    "checkpointer = ModelCheckpoint(filepath=save_model_path, monitor='loss', save_best_only=True, verbose=1)\n",
    "earlystopper = EarlyStopping(monitor = 'loss', \n",
    "                          min_delta = 0, \n",
    "                          patience = 5,\n",
    "                          verbose = 1,\n",
    "                          restore_best_weights = True)"
   ]
  },
  {
   "cell_type": "code",
   "execution_count": 0,
   "metadata": {
    "colab": {},
    "colab_type": "code",
    "id": "3daEbl-CyZbj"
   },
   "outputs": [],
   "source": [
    "data = pd.read_csv('/content/drive/My Drive/spacenet-data/image_list.csv')\n",
    "\n",
    "image_list = data['images']\n",
    "image_list = image_list.values\n",
    "np.random.shuffle(image_list)\n",
    "train_size = int(0.8*image_list.shape[0])\n",
    "train_list = image_list[0:train_size]\n",
    "validation_list = image_list[train_size: ]\n"
   ]
  },
  {
   "cell_type": "code",
   "execution_count": 0,
   "metadata": {
    "colab": {},
    "colab_type": "code",
    "id": "bwBWnjE60Eku"
   },
   "outputs": [],
   "source": [
    "image_path = 'img_data/'\n",
    "mask_path = 'mask_data/'\n",
    "train_generator = CustomDataGenerator(train_list, 32, (325, 325, 8), image_path, mask_path)"
   ]
  },
  {
   "cell_type": "code",
   "execution_count": 0,
   "metadata": {
    "colab": {},
    "colab_type": "code",
    "id": "0z7LsHliygJd"
   },
   "outputs": [],
   "source": [
    "EPOCHS = 200\n",
    "history = model.fit_generator(train_generator, epochs = EPOCHS, callbacks=[checkpointer, earlystopper])"
   ]
  },
  {
   "cell_type": "code",
   "execution_count": 0,
   "metadata": {
    "colab": {},
    "colab_type": "code",
    "id": "2qYBPAA6ZlnI"
   },
   "outputs": [],
   "source": [
    "iou_score_result = history.history['iou_score']\n",
    "loss_result = history.history['loss']\n",
    "\n",
    "epochs_range = range(EPOCHS)\n",
    "\n",
    "plt.figure(figsize=(16, 8))\n",
    "plt.subplot(1, 2, 1)\n",
    "plt.plot(epochs_range, iou_score_result, label='Training IOU Score')\n",
    "plt.plot(epochs_range, loss_result, label='Training Dice Loss')\n",
    "plt.legend(loc='upper right')\n",
    "plt.title('Training Performance')\n",
    "\n",
    "plt.show()"
   ]
  },
  {
   "cell_type": "code",
   "execution_count": 0,
   "metadata": {
    "colab": {},
    "colab_type": "code",
    "id": "ZNVeAj_8N0VK"
   },
   "outputs": [],
   "source": [
    "x_val = np.empty((len(validation_list), 325, 325, 8))\n",
    "y_val = np.empty((len(validation_list), 325, 325, 1))\n",
    "for i, image_name in enumerate(validation_list):\n",
    "    image = rasterio.open(image_path + image_name).read()\n",
    "    image = np.moveaxis(image, 0, 2)\n",
    "    mask_name = image_name.replace(\"MS\", \"mask_thick\")\n",
    "    mask_name = mask_name.replace(\"tif\", \"npy\")\n",
    "    mask = np.load(mask_path + mask_name)\n",
    "    mask = mask / 255\n",
    "    mask = mask.reshape(mask.shape[0], mask.shape[1], 1)\n",
    "    #mask = mask.astype(bool)\n",
    "\n",
    "    x_val[i,], y_val[i, ] = image, mask.round(decimals=1)"
   ]
  },
  {
   "cell_type": "code",
   "execution_count": 0,
   "metadata": {
    "colab": {},
    "colab_type": "code",
    "id": "hFEH3wAVOASe"
   },
   "outputs": [],
   "source": [
    "model = load_model(save_model_path, custom_objects={'bce_dice_loss': bce_dice_loss, 'iou_score' : iou_score})\n",
    "predictions = model.predict(x_val)"
   ]
  },
  {
   "cell_type": "code",
   "execution_count": 0,
   "metadata": {
    "colab": {},
    "colab_type": "code",
    "id": "GLItrNZ0PEys"
   },
   "outputs": [],
   "source": [
    "def show_raster_mask(index):\n",
    "    fig, (ax1, ax2, ax3) = plt.subplots(nrows = 1, ncols = 3, figsize = (15, 15))\n",
    "\n",
    "    raster = rasterio.open(image_path + validation_list[index])\n",
    "    ax1.imshow(raster.read(1), cmap = 'pink')\n",
    "    ax1.set_title('Raster Image')\n",
    "    ax2.imshow(predictions[index].reshape(325, 325))\n",
    "    ax2.set_title('Predicted Mask')\n",
    "    ax3.imshow(y_val[index].reshape(325, 325))\n",
    "    ax3.set_title('Ground Truth')\n",
    "    plt.show()"
   ]
  },
  {
   "cell_type": "code",
   "execution_count": null,
   "metadata": {
    "colab": {
     "base_uri": "https://localhost:8080/",
     "height": 1000
    },
    "colab_type": "code",
    "id": "4KS10PzjRESE",
    "outputId": "0b69a397-c326-4c7e-816e-102b82a92239"
   },
   "outputs": [],
   "source": [
    "for i in range(80):\n",
    "    show_raster_mask(i)"
   ]
  },
  {
   "cell_type": "markdown",
   "metadata": {},
   "source": [
    "#### This code for inverse distance transform of predicted mask"
   ]
  },
  {
   "cell_type": "code",
   "execution_count": null,
   "metadata": {},
   "outputs": [],
   "source": [
    "#each image should be of the size (325, 325, 8) \n",
    "#image_list should be the numpy array of images\n",
    "#each predicted masks will be of the size (325, 325)\n",
    "def apply_inverse_transform(image_list, model_path):\n",
    "    inv_dist = list()\n",
    "    print(\"Loading model...\")\n",
    "    model = keras.models.load_model(model_path, custom_objects={'bce_dice_loss': bce_dice_loss, 'iou_score' : iou_score})\n",
    "    print(\"Model loaded.\")\n",
    "    print(\"Applying inverse distance transform\")\n",
    "    mask_list = model.predict(image_list)\n",
    "    for mask in mask_list:\n",
    "        mask = mask.round(decimals = 1)\n",
    "        mask = mask.astype(np.uint8)\n",
    "        mask = mask.reshape(mask.shape[0], mask.shape[1])\n",
    "        one_loc = np.where(mask > 0.6)\n",
    "        zero_loc = np.where(mask < 0.6)\n",
    "        mask[one_loc] = 0above function\n",
    "        mask[zero_loc] = 1\n",
    "\n",
    "        mask_inv_dt = cv2.distanceTransform(mask, cv2.DIST_L2, 3)\n",
    "        inv_dist.append(mask_inv_dt)\n",
    "    return inv_dist"
   ]
  },
  {
   "cell_type": "markdown",
   "metadata": {},
   "source": [
    "#### sample code for using the above function"
   ]
  },
  {
   "cell_type": "code",
   "execution_count": null,
   "metadata": {},
   "outputs": [],
   "source": [
    "#numpy array to store images\n",
    "list_image = np.empty((10, 325, 325, 8))#to store 10 images\n",
    "image_path = '/content/drive/My Drive/spacenet-data/data/'\n",
    "\n",
    "#read image and store it in array\n",
    "for i, image in enumerate(image_list_part):\n",
    "    image = rasterio.open(image_path + image).read()\n",
    "    image = np.moveaxis(image, 0, 2)\n",
    "    list_image[i,] = image"
   ]
  },
  {
   "cell_type": "code",
   "execution_count": null,
   "metadata": {},
   "outputs": [],
   "source": [
    "model_path = 'your model path'\n",
    "inv_mask_list = apply_inverse_transform(list_image, model_path)"
   ]
  }
 ],
 "metadata": {
  "accelerator": "GPU",
  "colab": {
   "collapsed_sections": [],
   "name": "segmentation_model.ipynb",
   "provenance": []
  },
  "kernelspec": {
   "display_name": "mlenv",
   "language": "python",
   "name": "mlenv"
  },
  "language_info": {
   "codemirror_mode": {
    "name": "ipython",
    "version": 3
   },
   "file_extension": ".py",
   "mimetype": "text/x-python",
   "name": "python",
   "nbconvert_exporter": "python",
   "pygments_lexer": "ipython3",
   "version": "3.7.5"
  }
 },
 "nbformat": 4,
 "nbformat_minor": 1
}
